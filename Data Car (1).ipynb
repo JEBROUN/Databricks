{
 "cells": [
  {
   "cell_type": "code",
   "execution_count": 0,
   "metadata": {
    "application/vnd.databricks.v1+cell": {
     "cellMetadata": {
      "byteLimit": 2048000,
      "rowLimit": 10000
     },
     "inputWidgets": {},
     "nuid": "72405ab4-4322-4811-9785-e0e1895bc05a",
     "showTitle": false,
     "tableResultSettingsMap": {},
     "title": ""
    }
   },
   "outputs": [
    {
     "output_type": "execute_result",
     "data": {
      "text/plain": [
       "[FileInfo(path='dbfs:/user/hive/warehouse/books/', name='books/', size=0, modificationTime=1738258391000),\n",
       " FileInfo(path='dbfs:/user/hive/warehouse/books_unparsed/', name='books_unparsed/', size=0, modificationTime=1738258347000),\n",
       " FileInfo(path='dbfs:/user/hive/warehouse/car_datast/', name='car_datast/', size=0, modificationTime=1739017731000),\n",
       " FileInfo(path='dbfs:/user/hive/warehouse/car_price_data/', name='car_price_data/', size=0, modificationTime=1739018510000),\n",
       " FileInfo(path='dbfs:/user/hive/warehouse/car_price_dataset/', name='car_price_dataset/', size=0, modificationTime=1739017521000),\n",
       " FileInfo(path='dbfs:/user/hive/warehouse/customers/', name='customers/', size=0, modificationTime=1738258254000),\n",
       " FileInfo(path='dbfs:/user/hive/warehouse/orders/', name='orders/', size=0, modificationTime=1738260394000)]"
      ]
     },
     "execution_count": 21,
     "metadata": {},
     "output_type": "execute_result"
    }
   ],
   "source": [
    "\n",
    "dbutils.fs.ls(\"dbfs:/user/hive/warehouse/\")"
   ]
  },
  {
   "cell_type": "code",
   "execution_count": 0,
   "metadata": {
    "application/vnd.databricks.v1+cell": {
     "cellMetadata": {
      "byteLimit": 2048000,
      "rowLimit": 10000
     },
     "inputWidgets": {},
     "nuid": "8b3ed13c-7512-4331-bc49-9c4a3b25986e",
     "showTitle": false,
     "tableResultSettingsMap": {},
     "title": ""
    }
   },
   "outputs": [
    {
     "output_type": "execute_result",
     "data": {
      "text/plain": [
       "[FileInfo(path='dbfs:/user/hive/warehouse/car_price_data/_delta_log/', name='_delta_log/', size=0, modificationTime=1739018510000),\n",
       " FileInfo(path='dbfs:/user/hive/warehouse/car_price_data/part-00000-24ac0b4b-5a70-4a24-a773-1c9df8820af4-c000.snappy.parquet', name='part-00000-24ac0b4b-5a70-4a24-a773-1c9df8820af4-c000.snappy.parquet', size=131641, modificationTime=1739018511000)]"
      ]
     },
     "execution_count": 22,
     "metadata": {},
     "output_type": "execute_result"
    }
   ],
   "source": [
    "dbutils.fs.ls(\"dbfs:/user/hive/warehouse/car_price_data/\")"
   ]
  },
  {
   "cell_type": "code",
   "execution_count": 0,
   "metadata": {
    "application/vnd.databricks.v1+cell": {
     "cellMetadata": {
      "byteLimit": 2048000,
      "implicitDf": true,
      "rowLimit": 10000
     },
     "inputWidgets": {},
     "nuid": "c29c7d06-6459-4206-a63a-ed08528c6bb6",
     "showTitle": false,
     "tableResultSettingsMap": {},
     "title": ""
    }
   },
   "outputs": [
    {
     "output_type": "display_data",
     "data": {
      "text/html": [
       "<style scoped>\n",
       "  .table-result-container {\n",
       "    max-height: 300px;\n",
       "    overflow: auto;\n",
       "  }\n",
       "  table, th, td {\n",
       "    border: 1px solid black;\n",
       "    border-collapse: collapse;\n",
       "  }\n",
       "  th, td {\n",
       "    padding: 5px;\n",
       "  }\n",
       "  th {\n",
       "    text-align: left;\n",
       "  }\n",
       "</style><div class='table-result-container'><table class='table-result'><thead style='background-color: white'><tr></tr></thead><tbody></tbody></table></div>"
      ]
     },
     "metadata": {
      "application/vnd.databricks.v1+output": {
       "addedWidgets": {},
       "aggData": [],
       "aggError": "",
       "aggOverflow": false,
       "aggSchema": [],
       "aggSeriesLimitReached": false,
       "aggType": "",
       "arguments": {},
       "columnCustomDisplayInfos": {},
       "data": [],
       "datasetInfos": [],
       "dbfsResultPath": null,
       "isJsonSchema": true,
       "metadata": {
        "dataframeName": null
       },
       "overflow": false,
       "plotOptions": {
        "customPlotOptions": {},
        "displayType": "table",
        "pivotAggregation": null,
        "pivotColumns": null,
        "xColumns": null,
        "yColumns": null
       },
       "removedWidgets": [],
       "schema": [],
       "type": "table"
      }
     },
     "output_type": "display_data"
    }
   ],
   "source": [
    "%sql\n",
    "USE CATALOG hive_metastore;"
   ]
  },
  {
   "cell_type": "code",
   "execution_count": 0,
   "metadata": {
    "application/vnd.databricks.v1+cell": {
     "cellMetadata": {
      "byteLimit": 2048000,
      "implicitDf": true,
      "rowLimit": 10000
     },
     "inputWidgets": {},
     "nuid": "eee5d9df-76da-4d44-a458-75e3eacea36d",
     "showTitle": false,
     "tableResultSettingsMap": {},
     "title": ""
    }
   },
   "outputs": [
    {
     "output_type": "display_data",
     "data": {
      "text/html": [
       "<style scoped>\n",
       "  .table-result-container {\n",
       "    max-height: 300px;\n",
       "    overflow: auto;\n",
       "  }\n",
       "  table, th, td {\n",
       "    border: 1px solid black;\n",
       "    border-collapse: collapse;\n",
       "  }\n",
       "  th, td {\n",
       "    padding: 5px;\n",
       "  }\n",
       "  th {\n",
       "    text-align: left;\n",
       "  }\n",
       "</style><div class='table-result-container'><table class='table-result'><thead style='background-color: white'><tr><th>Brand</th><th>Model</th><th>Year</th><th>Engine_Size</th><th>Fuel_Type</th><th>Transmission</th><th>Mileage</th><th>Doors</th><th>Owner_Count</th><th>Price</th></tr></thead><tbody><tr><td>Kia</td><td>Rio</td><td>2020</td><td>4.2</td><td>Diesel</td><td>Manual</td><td>289944</td><td>3</td><td>5</td><td>8501</td></tr><tr><td>Chevrolet</td><td>Malibu</td><td>2012</td><td>2.0</td><td>Hybrid</td><td>Automatic</td><td>5356</td><td>2</td><td>3</td><td>12092</td></tr><tr><td>Mercedes</td><td>GLA</td><td>2020</td><td>4.2</td><td>Diesel</td><td>Automatic</td><td>231440</td><td>4</td><td>2</td><td>11171</td></tr><tr><td>Audi</td><td>Q5</td><td>2023</td><td>2.0</td><td>Electric</td><td>Manual</td><td>160971</td><td>2</td><td>1</td><td>11780</td></tr><tr><td>Volkswagen</td><td>Golf</td><td>2003</td><td>2.6</td><td>Hybrid</td><td>Semi-Automatic</td><td>286618</td><td>3</td><td>3</td><td>2867</td></tr><tr><td>Toyota</td><td>Camry</td><td>2007</td><td>2.7</td><td>Petrol</td><td>Automatic</td><td>157889</td><td>4</td><td>4</td><td>7242</td></tr><tr><td>Honda</td><td>Civic</td><td>2010</td><td>3.4</td><td>Electric</td><td>Automatic</td><td>139584</td><td>3</td><td>1</td><td>11208</td></tr><tr><td>Kia</td><td>Sportage</td><td>2001</td><td>4.7</td><td>Electric</td><td>Semi-Automatic</td><td>157495</td><td>2</td><td>2</td><td>7950</td></tr><tr><td>Kia</td><td>Sportage</td><td>2014</td><td>2.6</td><td>Hybrid</td><td>Manual</td><td>98700</td><td>3</td><td>4</td><td>9926</td></tr><tr><td>Toyota</td><td>RAV4</td><td>2005</td><td>3.1</td><td>Petrol</td><td>Manual</td><td>107724</td><td>2</td><td>5</td><td>6545</td></tr><tr><td>BMW</td><td>5 Series</td><td>2013</td><td>1.3</td><td>Hybrid</td><td>Automatic</td><td>296824</td><td>2</td><td>3</td><td>5863</td></tr><tr><td>Volkswagen</td><td>Golf</td><td>2009</td><td>4.5</td><td>Hybrid</td><td>Manual</td><td>42795</td><td>4</td><td>3</td><td>11444</td></tr><tr><td>Honda</td><td>CR-V</td><td>2007</td><td>4.8</td><td>Hybrid</td><td>Automatic</td><td>132875</td><td>3</td><td>4</td><td>10842</td></tr><tr><td>Hyundai</td><td>Elantra</td><td>2004</td><td>2.3</td><td>Hybrid</td><td>Semi-Automatic</td><td>188996</td><td>2</td><td>1</td><td>4820</td></tr><tr><td>Volkswagen</td><td>Golf</td><td>2003</td><td>2.4</td><td>Petrol</td><td>Automatic</td><td>145921</td><td>5</td><td>2</td><td>5981</td></tr><tr><td>Volkswagen</td><td>Golf</td><td>2007</td><td>3.2</td><td>Diesel</td><td>Automatic</td><td>60103</td><td>2</td><td>1</td><td>9697</td></tr><tr><td>Hyundai</td><td>Elantra</td><td>2017</td><td>2.9</td><td>Electric</td><td>Automatic</td><td>38133</td><td>5</td><td>2</td><td>14837</td></tr><tr><td>Volkswagen</td><td>Tiguan</td><td>2006</td><td>4.5</td><td>Electric</td><td>Manual</td><td>41161</td><td>2</td><td>2</td><td>11576</td></tr><tr><td>Kia</td><td>Rio</td><td>2000</td><td>3.4</td><td>Diesel</td><td>Semi-Automatic</td><td>257427</td><td>3</td><td>3</td><td>2351</td></tr><tr><td>Mercedes</td><td>GLA</td><td>2021</td><td>1.5</td><td>Petrol</td><td>Manual</td><td>34640</td><td>2</td><td>1</td><td>11207</td></tr></tbody></table></div>"
      ]
     },
     "metadata": {
      "application/vnd.databricks.v1+output": {
       "addedWidgets": {},
       "aggData": [],
       "aggError": "",
       "aggOverflow": false,
       "aggSchema": [],
       "aggSeriesLimitReached": false,
       "aggType": "",
       "arguments": {},
       "columnCustomDisplayInfos": {},
       "data": [
        [
         "Kia",
         "Rio",
         2020,
         4.2,
         "Diesel",
         "Manual",
         289944,
         3,
         5,
         8501
        ],
        [
         "Chevrolet",
         "Malibu",
         2012,
         2.0,
         "Hybrid",
         "Automatic",
         5356,
         2,
         3,
         12092
        ],
        [
         "Mercedes",
         "GLA",
         2020,
         4.2,
         "Diesel",
         "Automatic",
         231440,
         4,
         2,
         11171
        ],
        [
         "Audi",
         "Q5",
         2023,
         2.0,
         "Electric",
         "Manual",
         160971,
         2,
         1,
         11780
        ],
        [
         "Volkswagen",
         "Golf",
         2003,
         2.6,
         "Hybrid",
         "Semi-Automatic",
         286618,
         3,
         3,
         2867
        ],
        [
         "Toyota",
         "Camry",
         2007,
         2.7,
         "Petrol",
         "Automatic",
         157889,
         4,
         4,
         7242
        ],
        [
         "Honda",
         "Civic",
         2010,
         3.4,
         "Electric",
         "Automatic",
         139584,
         3,
         1,
         11208
        ],
        [
         "Kia",
         "Sportage",
         2001,
         4.7,
         "Electric",
         "Semi-Automatic",
         157495,
         2,
         2,
         7950
        ],
        [
         "Kia",
         "Sportage",
         2014,
         2.6,
         "Hybrid",
         "Manual",
         98700,
         3,
         4,
         9926
        ],
        [
         "Toyota",
         "RAV4",
         2005,
         3.1,
         "Petrol",
         "Manual",
         107724,
         2,
         5,
         6545
        ],
        [
         "BMW",
         "5 Series",
         2013,
         1.3,
         "Hybrid",
         "Automatic",
         296824,
         2,
         3,
         5863
        ],
        [
         "Volkswagen",
         "Golf",
         2009,
         4.5,
         "Hybrid",
         "Manual",
         42795,
         4,
         3,
         11444
        ],
        [
         "Honda",
         "CR-V",
         2007,
         4.8,
         "Hybrid",
         "Automatic",
         132875,
         3,
         4,
         10842
        ],
        [
         "Hyundai",
         "Elantra",
         2004,
         2.3,
         "Hybrid",
         "Semi-Automatic",
         188996,
         2,
         1,
         4820
        ],
        [
         "Volkswagen",
         "Golf",
         2003,
         2.4,
         "Petrol",
         "Automatic",
         145921,
         5,
         2,
         5981
        ],
        [
         "Volkswagen",
         "Golf",
         2007,
         3.2,
         "Diesel",
         "Automatic",
         60103,
         2,
         1,
         9697
        ],
        [
         "Hyundai",
         "Elantra",
         2017,
         2.9,
         "Electric",
         "Automatic",
         38133,
         5,
         2,
         14837
        ],
        [
         "Volkswagen",
         "Tiguan",
         2006,
         4.5,
         "Electric",
         "Manual",
         41161,
         2,
         2,
         11576
        ],
        [
         "Kia",
         "Rio",
         2000,
         3.4,
         "Diesel",
         "Semi-Automatic",
         257427,
         3,
         3,
         2351
        ],
        [
         "Mercedes",
         "GLA",
         2021,
         1.5,
         "Petrol",
         "Manual",
         34640,
         2,
         1,
         11207
        ]
       ],
       "datasetInfos": [],
       "dbfsResultPath": null,
       "isJsonSchema": true,
       "metadata": {
        "createTempViewForImplicitDf": true,
        "dataframeName": "_sqldf",
        "executionCount": 41
       },
       "overflow": false,
       "plotOptions": {
        "customPlotOptions": {},
        "displayType": "table",
        "pivotAggregation": null,
        "pivotColumns": null,
        "xColumns": null,
        "yColumns": null
       },
       "removedWidgets": [],
       "schema": [
        {
         "metadata": "{}",
         "name": "Brand",
         "type": "\"string\""
        },
        {
         "metadata": "{}",
         "name": "Model",
         "type": "\"string\""
        },
        {
         "metadata": "{}",
         "name": "Year",
         "type": "\"long\""
        },
        {
         "metadata": "{}",
         "name": "Engine_Size",
         "type": "\"double\""
        },
        {
         "metadata": "{}",
         "name": "Fuel_Type",
         "type": "\"string\""
        },
        {
         "metadata": "{}",
         "name": "Transmission",
         "type": "\"string\""
        },
        {
         "metadata": "{}",
         "name": "Mileage",
         "type": "\"long\""
        },
        {
         "metadata": "{}",
         "name": "Doors",
         "type": "\"long\""
        },
        {
         "metadata": "{}",
         "name": "Owner_Count",
         "type": "\"long\""
        },
        {
         "metadata": "{}",
         "name": "Price",
         "type": "\"long\""
        }
       ],
       "type": "table"
      }
     },
     "output_type": "display_data"
    }
   ],
   "source": [
    "%sql\n",
    "SELECT * from car_price_data\n",
    "LIMIT 20"
   ]
  },
  {
   "cell_type": "code",
   "execution_count": 0,
   "metadata": {
    "application/vnd.databricks.v1+cell": {
     "cellMetadata": {
      "byteLimit": 2048000,
      "implicitDf": true,
      "rowLimit": 10000
     },
     "inputWidgets": {},
     "nuid": "1dc570de-5957-4ffb-9d14-b38d5cc8033b",
     "showTitle": false,
     "tableResultSettingsMap": {},
     "title": ""
    }
   },
   "outputs": [
    {
     "output_type": "display_data",
     "data": {
      "text/html": [
       "<style scoped>\n",
       "  .table-result-container {\n",
       "    max-height: 300px;\n",
       "    overflow: auto;\n",
       "  }\n",
       "  table, th, td {\n",
       "    border: 1px solid black;\n",
       "    border-collapse: collapse;\n",
       "  }\n",
       "  th, td {\n",
       "    padding: 5px;\n",
       "  }\n",
       "  th {\n",
       "    text-align: left;\n",
       "  }\n",
       "</style><div class='table-result-container'><table class='table-result'><thead style='background-color: white'><tr><th>database</th><th>tableName</th><th>isTemporary</th></tr></thead><tbody><tr><td>default</td><td>car_price_data</td><td>false</td></tr></tbody></table></div>"
      ]
     },
     "metadata": {
      "application/vnd.databricks.v1+output": {
       "addedWidgets": {},
       "aggData": [],
       "aggError": "",
       "aggOverflow": false,
       "aggSchema": [],
       "aggSeriesLimitReached": false,
       "aggType": "",
       "arguments": {},
       "columnCustomDisplayInfos": {},
       "data": [
        [
         "default",
         "car_price_data",
         false
        ]
       ],
       "datasetInfos": [],
       "dbfsResultPath": null,
       "isJsonSchema": true,
       "metadata": {
        "createTempViewForImplicitDf": true,
        "dataframeName": "_sqldf",
        "executionCount": 25
       },
       "overflow": false,
       "plotOptions": {
        "customPlotOptions": {},
        "displayType": "table",
        "pivotAggregation": null,
        "pivotColumns": null,
        "xColumns": null,
        "yColumns": null
       },
       "removedWidgets": [],
       "schema": [
        {
         "metadata": "{}",
         "name": "database",
         "type": "\"string\""
        },
        {
         "metadata": "{}",
         "name": "tableName",
         "type": "\"string\""
        },
        {
         "metadata": "{}",
         "name": "isTemporary",
         "type": "\"boolean\""
        }
       ],
       "type": "table"
      }
     },
     "output_type": "display_data"
    }
   ],
   "source": [
    "%sql\n",
    "SHOW TABLES LIKE 'car_price_data';"
   ]
  },
  {
   "cell_type": "code",
   "execution_count": 0,
   "metadata": {
    "application/vnd.databricks.v1+cell": {
     "cellMetadata": {
      "byteLimit": 2048000,
      "implicitDf": true,
      "rowLimit": 10000
     },
     "inputWidgets": {},
     "nuid": "e9d7f5d8-6c4d-44df-802b-285f89a28ce7",
     "showTitle": false,
     "tableResultSettingsMap": {},
     "title": ""
    }
   },
   "outputs": [
    {
     "output_type": "display_data",
     "data": {
      "text/html": [
       "<style scoped>\n",
       "  .table-result-container {\n",
       "    max-height: 300px;\n",
       "    overflow: auto;\n",
       "  }\n",
       "  table, th, td {\n",
       "    border: 1px solid black;\n",
       "    border-collapse: collapse;\n",
       "  }\n",
       "  th, td {\n",
       "    padding: 5px;\n",
       "  }\n",
       "  th {\n",
       "    text-align: left;\n",
       "  }\n",
       "</style><div class='table-result-container'><table class='table-result'><thead style='background-color: white'><tr><th>col_name</th><th>data_type</th><th>comment</th></tr></thead><tbody><tr><td>Brand</td><td>string</td><td>null</td></tr><tr><td>Model</td><td>string</td><td>null</td></tr><tr><td>Year</td><td>bigint</td><td>null</td></tr><tr><td>Engine_Size</td><td>double</td><td>null</td></tr><tr><td>Fuel_Type</td><td>string</td><td>null</td></tr><tr><td>Transmission</td><td>string</td><td>null</td></tr><tr><td>Mileage</td><td>bigint</td><td>null</td></tr><tr><td>Doors</td><td>bigint</td><td>null</td></tr><tr><td>Owner_Count</td><td>bigint</td><td>null</td></tr><tr><td>Price</td><td>bigint</td><td>null</td></tr></tbody></table></div>"
      ]
     },
     "metadata": {
      "application/vnd.databricks.v1+output": {
       "addedWidgets": {},
       "aggData": [],
       "aggError": "",
       "aggOverflow": false,
       "aggSchema": [],
       "aggSeriesLimitReached": false,
       "aggType": "",
       "arguments": {},
       "columnCustomDisplayInfos": {},
       "data": [
        [
         "Brand",
         "string",
         null
        ],
        [
         "Model",
         "string",
         null
        ],
        [
         "Year",
         "bigint",
         null
        ],
        [
         "Engine_Size",
         "double",
         null
        ],
        [
         "Fuel_Type",
         "string",
         null
        ],
        [
         "Transmission",
         "string",
         null
        ],
        [
         "Mileage",
         "bigint",
         null
        ],
        [
         "Doors",
         "bigint",
         null
        ],
        [
         "Owner_Count",
         "bigint",
         null
        ],
        [
         "Price",
         "bigint",
         null
        ]
       ],
       "datasetInfos": [],
       "dbfsResultPath": null,
       "isJsonSchema": true,
       "metadata": {
        "createTempViewForImplicitDf": true,
        "dataframeName": "_sqldf",
        "executionCount": 26
       },
       "overflow": false,
       "plotOptions": {
        "customPlotOptions": {},
        "displayType": "table",
        "pivotAggregation": null,
        "pivotColumns": null,
        "xColumns": null,
        "yColumns": null
       },
       "removedWidgets": [],
       "schema": [
        {
         "metadata": "{\"comment\":\"name of the column\"}",
         "name": "col_name",
         "type": "\"string\""
        },
        {
         "metadata": "{\"comment\":\"data type of the column\"}",
         "name": "data_type",
         "type": "\"string\""
        },
        {
         "metadata": "{\"comment\":\"comment of the column\"}",
         "name": "comment",
         "type": "\"string\""
        }
       ],
       "type": "table"
      }
     },
     "output_type": "display_data"
    }
   ],
   "source": [
    "%sql\n",
    "DESCRIBE TABLE car_price_data;"
   ]
  },
  {
   "cell_type": "code",
   "execution_count": 0,
   "metadata": {
    "application/vnd.databricks.v1+cell": {
     "cellMetadata": {
      "byteLimit": 2048000,
      "implicitDf": true,
      "rowLimit": 10000
     },
     "inputWidgets": {},
     "nuid": "a6f3a195-7904-4b80-949b-7f8b3c27fe9d",
     "showTitle": false,
     "tableResultSettingsMap": {},
     "title": ""
    }
   },
   "outputs": [
    {
     "output_type": "display_data",
     "data": {
      "text/html": [
       "<style scoped>\n",
       "  .table-result-container {\n",
       "    max-height: 300px;\n",
       "    overflow: auto;\n",
       "  }\n",
       "  table, th, td {\n",
       "    border: 1px solid black;\n",
       "    border-collapse: collapse;\n",
       "  }\n",
       "  th, td {\n",
       "    padding: 5px;\n",
       "  }\n",
       "  th {\n",
       "    text-align: left;\n",
       "  }\n",
       "</style><div class='table-result-container'><table class='table-result'><thead style='background-color: white'><tr><th>format</th><th>id</th><th>name</th><th>description</th><th>location</th><th>createdAt</th><th>lastModified</th><th>partitionColumns</th><th>clusteringColumns</th><th>numFiles</th><th>sizeInBytes</th><th>properties</th><th>minReaderVersion</th><th>minWriterVersion</th><th>tableFeatures</th><th>statistics</th></tr></thead><tbody><tr><td>delta</td><td>812ac435-21b8-4fca-877f-a1d9f8809afb</td><td>hive_metastore.default.car_price_data</td><td>Created by the file upload UI</td><td>dbfs:/user/hive/warehouse/car_price_data</td><td>2025-02-08T12:41:50.787Z</td><td>2025-02-08T12:41:51Z</td><td>List()</td><td>List()</td><td>1</td><td>131641</td><td>Map(delta.enableDeletionVectors -> true)</td><td>3</td><td>7</td><td>List(deletionVectors)</td><td>Map(numRowsDeletedByDeletionVectors -> 0, numDeletionVectors -> 0)</td></tr></tbody></table></div>"
      ]
     },
     "metadata": {
      "application/vnd.databricks.v1+output": {
       "addedWidgets": {},
       "aggData": [],
       "aggError": "",
       "aggOverflow": false,
       "aggSchema": [],
       "aggSeriesLimitReached": false,
       "aggType": "",
       "arguments": {},
       "columnCustomDisplayInfos": {},
       "data": [
        [
         "delta",
         "812ac435-21b8-4fca-877f-a1d9f8809afb",
         "hive_metastore.default.car_price_data",
         "Created by the file upload UI",
         "dbfs:/user/hive/warehouse/car_price_data",
         "2025-02-08T12:41:50.787Z",
         "2025-02-08T12:41:51Z",
         [],
         [],
         1,
         131641,
         {
          "delta.enableDeletionVectors": "true"
         },
         3,
         7,
         [
          "deletionVectors"
         ],
         {
          "numDeletionVectors": 0,
          "numRowsDeletedByDeletionVectors": 0
         }
        ]
       ],
       "datasetInfos": [],
       "dbfsResultPath": null,
       "isJsonSchema": true,
       "metadata": {
        "createTempViewForImplicitDf": true,
        "dataframeName": "_sqldf",
        "executionCount": 27
       },
       "overflow": false,
       "plotOptions": {
        "customPlotOptions": {},
        "displayType": "table",
        "pivotAggregation": null,
        "pivotColumns": null,
        "xColumns": null,
        "yColumns": null
       },
       "removedWidgets": [],
       "schema": [
        {
         "metadata": "{}",
         "name": "format",
         "type": "\"string\""
        },
        {
         "metadata": "{}",
         "name": "id",
         "type": "\"string\""
        },
        {
         "metadata": "{}",
         "name": "name",
         "type": "\"string\""
        },
        {
         "metadata": "{}",
         "name": "description",
         "type": "\"string\""
        },
        {
         "metadata": "{}",
         "name": "location",
         "type": "\"string\""
        },
        {
         "metadata": "{}",
         "name": "createdAt",
         "type": "\"timestamp\""
        },
        {
         "metadata": "{}",
         "name": "lastModified",
         "type": "\"timestamp\""
        },
        {
         "metadata": "{}",
         "name": "partitionColumns",
         "type": "{\"type\":\"array\",\"elementType\":\"string\",\"containsNull\":true}"
        },
        {
         "metadata": "{}",
         "name": "clusteringColumns",
         "type": "{\"type\":\"array\",\"elementType\":\"string\",\"containsNull\":true}"
        },
        {
         "metadata": "{}",
         "name": "numFiles",
         "type": "\"long\""
        },
        {
         "metadata": "{}",
         "name": "sizeInBytes",
         "type": "\"long\""
        },
        {
         "metadata": "{}",
         "name": "properties",
         "type": "{\"type\":\"map\",\"keyType\":\"string\",\"valueType\":\"string\",\"valueContainsNull\":true}"
        },
        {
         "metadata": "{}",
         "name": "minReaderVersion",
         "type": "\"integer\""
        },
        {
         "metadata": "{}",
         "name": "minWriterVersion",
         "type": "\"integer\""
        },
        {
         "metadata": "{}",
         "name": "tableFeatures",
         "type": "{\"type\":\"array\",\"elementType\":\"string\",\"containsNull\":true}"
        },
        {
         "metadata": "{}",
         "name": "statistics",
         "type": "{\"type\":\"map\",\"keyType\":\"string\",\"valueType\":\"long\",\"valueContainsNull\":true}"
        }
       ],
       "type": "table"
      }
     },
     "output_type": "display_data"
    }
   ],
   "source": [
    "%sql\n",
    "DESCRIBE DETAIL car_price_data;"
   ]
  },
  {
   "cell_type": "code",
   "execution_count": 0,
   "metadata": {
    "application/vnd.databricks.v1+cell": {
     "cellMetadata": {
      "byteLimit": 2048000,
      "implicitDf": true,
      "rowLimit": 10000
     },
     "inputWidgets": {},
     "nuid": "34bb2b09-6b06-4462-8445-a8366c63b356",
     "showTitle": false,
     "tableResultSettingsMap": {},
     "title": ""
    }
   },
   "outputs": [
    {
     "output_type": "display_data",
     "data": {
      "text/html": [
       "<style scoped>\n",
       "  .table-result-container {\n",
       "    max-height: 300px;\n",
       "    overflow: auto;\n",
       "  }\n",
       "  table, th, td {\n",
       "    border: 1px solid black;\n",
       "    border-collapse: collapse;\n",
       "  }\n",
       "  th, td {\n",
       "    padding: 5px;\n",
       "  }\n",
       "  th {\n",
       "    text-align: left;\n",
       "  }\n",
       "</style><div class='table-result-container'><table class='table-result'><thead style='background-color: white'><tr><th>num_affected_rows</th><th>num_inserted_rows</th></tr></thead><tbody></tbody></table></div>"
      ]
     },
     "metadata": {
      "application/vnd.databricks.v1+output": {
       "addedWidgets": {},
       "aggData": [],
       "aggError": "",
       "aggOverflow": false,
       "aggSchema": [],
       "aggSeriesLimitReached": false,
       "aggType": "",
       "arguments": {},
       "columnCustomDisplayInfos": {},
       "data": [],
       "datasetInfos": [],
       "dbfsResultPath": null,
       "isJsonSchema": true,
       "metadata": {
        "createTempViewForImplicitDf": true,
        "dataframeName": "_sqldf",
        "executionCount": 28
       },
       "overflow": false,
       "plotOptions": {
        "customPlotOptions": {},
        "displayType": "table",
        "pivotAggregation": null,
        "pivotColumns": null,
        "xColumns": null,
        "yColumns": null
       },
       "removedWidgets": [],
       "schema": [
        {
         "metadata": "{}",
         "name": "num_affected_rows",
         "type": "\"long\""
        },
        {
         "metadata": "{}",
         "name": "num_inserted_rows",
         "type": "\"long\""
        }
       ],
       "type": "table"
      }
     },
     "output_type": "display_data"
    }
   ],
   "source": [
    "%sql\n",
    "CREATE TABLE Car_Price_Data_Ford \n",
    "AS SELECT * FROM car_price_data where Brand = 'Ford' ;"
   ]
  },
  {
   "cell_type": "code",
   "execution_count": 0,
   "metadata": {
    "application/vnd.databricks.v1+cell": {
     "cellMetadata": {
      "byteLimit": 2048000,
      "implicitDf": true,
      "rowLimit": 10000
     },
     "inputWidgets": {},
     "nuid": "56e124cb-5090-4ff1-b580-b039883e3bdc",
     "showTitle": false,
     "tableResultSettingsMap": {},
     "title": ""
    }
   },
   "outputs": [
    {
     "output_type": "display_data",
     "data": {
      "text/html": [
       "<style scoped>\n",
       "  .table-result-container {\n",
       "    max-height: 300px;\n",
       "    overflow: auto;\n",
       "  }\n",
       "  table, th, td {\n",
       "    border: 1px solid black;\n",
       "    border-collapse: collapse;\n",
       "  }\n",
       "  th, td {\n",
       "    padding: 5px;\n",
       "  }\n",
       "  th {\n",
       "    text-align: left;\n",
       "  }\n",
       "</style><div class='table-result-container'><table class='table-result'><thead style='background-color: white'><tr><th>Brand</th><th>Model</th><th>Year</th><th>Engine_Size</th><th>Fuel_Type</th><th>Transmission</th><th>Mileage</th><th>Doors</th><th>Owner_Count</th><th>Price</th></tr></thead><tbody><tr><td>Ford</td><td>Explorer</td><td>2006</td><td>2.8</td><td>Hybrid</td><td>Manual</td><td>99921</td><td>4</td><td>2</td><td>7701</td></tr><tr><td>Ford</td><td>Fiesta</td><td>2017</td><td>2.2</td><td>Hybrid</td><td>Manual</td><td>277363</td><td>2</td><td>4</td><td>6852</td></tr><tr><td>Ford</td><td>Focus</td><td>2004</td><td>1.2</td><td>Electric</td><td>Manual</td><td>93645</td><td>3</td><td>3</td><td>6627</td></tr><tr><td>Ford</td><td>Focus</td><td>2011</td><td>2.3</td><td>Diesel</td><td>Automatic</td><td>255372</td><td>5</td><td>5</td><td>6092</td></tr><tr><td>Ford</td><td>Focus</td><td>2008</td><td>1.8</td><td>Electric</td><td>Semi-Automatic</td><td>280713</td><td>3</td><td>1</td><td>4685</td></tr><tr><td>Ford</td><td>Fiesta</td><td>2004</td><td>4.0</td><td>Diesel</td><td>Automatic</td><td>85348</td><td>3</td><td>3</td><td>9093</td></tr><tr><td>Ford</td><td>Focus</td><td>2015</td><td>4.8</td><td>Electric</td><td>Automatic</td><td>100603</td><td>4</td><td>2</td><td>14887</td></tr><tr><td>Ford</td><td>Fiesta</td><td>2002</td><td>4.0</td><td>Hybrid</td><td>Semi-Automatic</td><td>272351</td><td>3</td><td>3</td><td>4252</td></tr><tr><td>Ford</td><td>Fiesta</td><td>2007</td><td>4.5</td><td>Electric</td><td>Manual</td><td>53088</td><td>3</td><td>2</td><td>11638</td></tr><tr><td>Ford</td><td>Focus</td><td>2013</td><td>1.1</td><td>Diesel</td><td>Manual</td><td>294516</td><td>4</td><td>1</td><td>3209</td></tr><tr><td>Ford</td><td>Explorer</td><td>2013</td><td>5.0</td><td>Electric</td><td>Automatic</td><td>188195</td><td>5</td><td>3</td><td>12736</td></tr><tr><td>Ford</td><td>Fiesta</td><td>2013</td><td>3.5</td><td>Hybrid</td><td>Semi-Automatic</td><td>167809</td><td>2</td><td>3</td><td>9143</td></tr><tr><td>Ford</td><td>Focus</td><td>2001</td><td>3.2</td><td>Petrol</td><td>Manual</td><td>42064</td><td>2</td><td>3</td><td>6758</td></tr><tr><td>Ford</td><td>Explorer</td><td>2023</td><td>4.1</td><td>Electric</td><td>Automatic</td><td>67072</td><td>4</td><td>3</td><td>17258</td></tr><tr><td>Ford</td><td>Explorer</td><td>2001</td><td>2.2</td><td>Petrol</td><td>Manual</td><td>18630</td><td>3</td><td>5</td><td>6227</td></tr><tr><td>Ford</td><td>Fiesta</td><td>2005</td><td>1.0</td><td>Hybrid</td><td>Semi-Automatic</td><td>68819</td><td>2</td><td>3</td><td>6223</td></tr><tr><td>Ford</td><td>Focus</td><td>2003</td><td>3.2</td><td>Petrol</td><td>Semi-Automatic</td><td>85005</td><td>3</td><td>1</td><td>6499</td></tr><tr><td>Ford</td><td>Focus</td><td>2009</td><td>2.1</td><td>Petrol</td><td>Automatic</td><td>122067</td><td>4</td><td>4</td><td>7958</td></tr><tr><td>Ford</td><td>Focus</td><td>2009</td><td>4.1</td><td>Petrol</td><td>Automatic</td><td>99562</td><td>5</td><td>2</td><td>10408</td></tr><tr><td>Ford</td><td>Focus</td><td>2009</td><td>1.2</td><td>Hybrid</td><td>Automatic</td><td>114668</td><td>2</td><td>4</td><td>8206</td></tr></tbody></table></div>"
      ]
     },
     "metadata": {
      "application/vnd.databricks.v1+output": {
       "addedWidgets": {},
       "aggData": [],
       "aggError": "",
       "aggOverflow": false,
       "aggSchema": [],
       "aggSeriesLimitReached": false,
       "aggType": "",
       "arguments": {},
       "columnCustomDisplayInfos": {},
       "data": [
        [
         "Ford",
         "Explorer",
         2006,
         2.8,
         "Hybrid",
         "Manual",
         99921,
         4,
         2,
         7701
        ],
        [
         "Ford",
         "Fiesta",
         2017,
         2.2,
         "Hybrid",
         "Manual",
         277363,
         2,
         4,
         6852
        ],
        [
         "Ford",
         "Focus",
         2004,
         1.2,
         "Electric",
         "Manual",
         93645,
         3,
         3,
         6627
        ],
        [
         "Ford",
         "Focus",
         2011,
         2.3,
         "Diesel",
         "Automatic",
         255372,
         5,
         5,
         6092
        ],
        [
         "Ford",
         "Focus",
         2008,
         1.8,
         "Electric",
         "Semi-Automatic",
         280713,
         3,
         1,
         4685
        ],
        [
         "Ford",
         "Fiesta",
         2004,
         4.0,
         "Diesel",
         "Automatic",
         85348,
         3,
         3,
         9093
        ],
        [
         "Ford",
         "Focus",
         2015,
         4.8,
         "Electric",
         "Automatic",
         100603,
         4,
         2,
         14887
        ],
        [
         "Ford",
         "Fiesta",
         2002,
         4.0,
         "Hybrid",
         "Semi-Automatic",
         272351,
         3,
         3,
         4252
        ],
        [
         "Ford",
         "Fiesta",
         2007,
         4.5,
         "Electric",
         "Manual",
         53088,
         3,
         2,
         11638
        ],
        [
         "Ford",
         "Focus",
         2013,
         1.1,
         "Diesel",
         "Manual",
         294516,
         4,
         1,
         3209
        ],
        [
         "Ford",
         "Explorer",
         2013,
         5.0,
         "Electric",
         "Automatic",
         188195,
         5,
         3,
         12736
        ],
        [
         "Ford",
         "Fiesta",
         2013,
         3.5,
         "Hybrid",
         "Semi-Automatic",
         167809,
         2,
         3,
         9143
        ],
        [
         "Ford",
         "Focus",
         2001,
         3.2,
         "Petrol",
         "Manual",
         42064,
         2,
         3,
         6758
        ],
        [
         "Ford",
         "Explorer",
         2023,
         4.1,
         "Electric",
         "Automatic",
         67072,
         4,
         3,
         17258
        ],
        [
         "Ford",
         "Explorer",
         2001,
         2.2,
         "Petrol",
         "Manual",
         18630,
         3,
         5,
         6227
        ],
        [
         "Ford",
         "Fiesta",
         2005,
         1.0,
         "Hybrid",
         "Semi-Automatic",
         68819,
         2,
         3,
         6223
        ],
        [
         "Ford",
         "Focus",
         2003,
         3.2,
         "Petrol",
         "Semi-Automatic",
         85005,
         3,
         1,
         6499
        ],
        [
         "Ford",
         "Focus",
         2009,
         2.1,
         "Petrol",
         "Automatic",
         122067,
         4,
         4,
         7958
        ],
        [
         "Ford",
         "Focus",
         2009,
         4.1,
         "Petrol",
         "Automatic",
         99562,
         5,
         2,
         10408
        ],
        [
         "Ford",
         "Focus",
         2009,
         1.2,
         "Hybrid",
         "Automatic",
         114668,
         2,
         4,
         8206
        ]
       ],
       "datasetInfos": [],
       "dbfsResultPath": null,
       "isJsonSchema": true,
       "metadata": {
        "createTempViewForImplicitDf": true,
        "dataframeName": "_sqldf",
        "executionCount": 43
       },
       "overflow": false,
       "plotOptions": {
        "customPlotOptions": {},
        "displayType": "table",
        "pivotAggregation": null,
        "pivotColumns": null,
        "xColumns": null,
        "yColumns": null
       },
       "removedWidgets": [],
       "schema": [
        {
         "metadata": "{}",
         "name": "Brand",
         "type": "\"string\""
        },
        {
         "metadata": "{}",
         "name": "Model",
         "type": "\"string\""
        },
        {
         "metadata": "{}",
         "name": "Year",
         "type": "\"long\""
        },
        {
         "metadata": "{}",
         "name": "Engine_Size",
         "type": "\"double\""
        },
        {
         "metadata": "{}",
         "name": "Fuel_Type",
         "type": "\"string\""
        },
        {
         "metadata": "{}",
         "name": "Transmission",
         "type": "\"string\""
        },
        {
         "metadata": "{}",
         "name": "Mileage",
         "type": "\"long\""
        },
        {
         "metadata": "{}",
         "name": "Doors",
         "type": "\"long\""
        },
        {
         "metadata": "{}",
         "name": "Owner_Count",
         "type": "\"long\""
        },
        {
         "metadata": "{}",
         "name": "Price",
         "type": "\"long\""
        }
       ],
       "type": "table"
      }
     },
     "output_type": "display_data"
    }
   ],
   "source": [
    "%sql\n",
    "SELECT * from Car_Price_Data_Ford\n",
    "LIMIT 20;"
   ]
  },
  {
   "cell_type": "code",
   "execution_count": 0,
   "metadata": {
    "application/vnd.databricks.v1+cell": {
     "cellMetadata": {
      "byteLimit": 2048000,
      "rowLimit": 10000
     },
     "inputWidgets": {},
     "nuid": "3f4d1b9c-82bc-413c-b641-5ca4f84d9503",
     "showTitle": false,
     "tableResultSettingsMap": {},
     "title": ""
    }
   },
   "outputs": [],
   "source": [
    "(spark.readStream\n",
    "      .table(\"Car_Price_Data_Ford\")\n",
    "      .createOrReplaceTempView(\"Data_Ford_streaming_tmp_vw\")\n",
    ")"
   ]
  },
  {
   "cell_type": "code",
   "execution_count": 0,
   "metadata": {
    "application/vnd.databricks.v1+cell": {
     "cellMetadata": {
      "byteLimit": 2048000,
      "implicitDf": true,
      "rowLimit": 10000
     },
     "inputWidgets": {},
     "nuid": "abbb7ef1-93ce-495a-afe0-e2bc7082676b",
     "showTitle": false,
     "tableResultSettingsMap": {},
     "title": ""
    }
   },
   "outputs": [
    {
     "output_type": "display_data",
     "data": {
      "text/html": [
       "<style scoped>\n",
       "  .table-result-container {\n",
       "    max-height: 300px;\n",
       "    overflow: auto;\n",
       "  }\n",
       "  table, th, td {\n",
       "    border: 1px solid black;\n",
       "    border-collapse: collapse;\n",
       "  }\n",
       "  th, td {\n",
       "    padding: 5px;\n",
       "  }\n",
       "  th {\n",
       "    text-align: left;\n",
       "  }\n",
       "</style><div class='table-result-container'><table class='table-result'><thead style='background-color: white'><tr><th>Brand</th><th>Model</th><th>Year</th><th>Engine_Size</th><th>Fuel_Type</th><th>Transmission</th><th>Mileage</th><th>Doors</th><th>Owner_Count</th><th>Price</th></tr></thead><tbody><tr><td>Ford</td><td>Explorer</td><td>2006</td><td>2.8</td><td>Hybrid</td><td>Manual</td><td>99921</td><td>4</td><td>2</td><td>7701</td></tr><tr><td>Ford</td><td>Fiesta</td><td>2017</td><td>2.2</td><td>Hybrid</td><td>Manual</td><td>277363</td><td>2</td><td>4</td><td>6852</td></tr><tr><td>Ford</td><td>Focus</td><td>2004</td><td>1.2</td><td>Electric</td><td>Manual</td><td>93645</td><td>3</td><td>3</td><td>6627</td></tr><tr><td>Ford</td><td>Focus</td><td>2011</td><td>2.3</td><td>Diesel</td><td>Automatic</td><td>255372</td><td>5</td><td>5</td><td>6092</td></tr><tr><td>Ford</td><td>Focus</td><td>2008</td><td>1.8</td><td>Electric</td><td>Semi-Automatic</td><td>280713</td><td>3</td><td>1</td><td>4685</td></tr><tr><td>Ford</td><td>Fiesta</td><td>2004</td><td>4.0</td><td>Diesel</td><td>Automatic</td><td>85348</td><td>3</td><td>3</td><td>9093</td></tr><tr><td>Ford</td><td>Focus</td><td>2015</td><td>4.8</td><td>Electric</td><td>Automatic</td><td>100603</td><td>4</td><td>2</td><td>14887</td></tr><tr><td>Ford</td><td>Fiesta</td><td>2002</td><td>4.0</td><td>Hybrid</td><td>Semi-Automatic</td><td>272351</td><td>3</td><td>3</td><td>4252</td></tr><tr><td>Ford</td><td>Fiesta</td><td>2007</td><td>4.5</td><td>Electric</td><td>Manual</td><td>53088</td><td>3</td><td>2</td><td>11638</td></tr><tr><td>Ford</td><td>Focus</td><td>2013</td><td>1.1</td><td>Diesel</td><td>Manual</td><td>294516</td><td>4</td><td>1</td><td>3209</td></tr><tr><td>Ford</td><td>Explorer</td><td>2013</td><td>5.0</td><td>Electric</td><td>Automatic</td><td>188195</td><td>5</td><td>3</td><td>12736</td></tr><tr><td>Ford</td><td>Fiesta</td><td>2013</td><td>3.5</td><td>Hybrid</td><td>Semi-Automatic</td><td>167809</td><td>2</td><td>3</td><td>9143</td></tr><tr><td>Ford</td><td>Focus</td><td>2001</td><td>3.2</td><td>Petrol</td><td>Manual</td><td>42064</td><td>2</td><td>3</td><td>6758</td></tr><tr><td>Ford</td><td>Explorer</td><td>2023</td><td>4.1</td><td>Electric</td><td>Automatic</td><td>67072</td><td>4</td><td>3</td><td>17258</td></tr><tr><td>Ford</td><td>Explorer</td><td>2001</td><td>2.2</td><td>Petrol</td><td>Manual</td><td>18630</td><td>3</td><td>5</td><td>6227</td></tr><tr><td>Ford</td><td>Fiesta</td><td>2005</td><td>1.0</td><td>Hybrid</td><td>Semi-Automatic</td><td>68819</td><td>2</td><td>3</td><td>6223</td></tr><tr><td>Ford</td><td>Focus</td><td>2003</td><td>3.2</td><td>Petrol</td><td>Semi-Automatic</td><td>85005</td><td>3</td><td>1</td><td>6499</td></tr><tr><td>Ford</td><td>Focus</td><td>2009</td><td>2.1</td><td>Petrol</td><td>Automatic</td><td>122067</td><td>4</td><td>4</td><td>7958</td></tr><tr><td>Ford</td><td>Focus</td><td>2009</td><td>4.1</td><td>Petrol</td><td>Automatic</td><td>99562</td><td>5</td><td>2</td><td>10408</td></tr><tr><td>Ford</td><td>Focus</td><td>2009</td><td>1.2</td><td>Hybrid</td><td>Automatic</td><td>114668</td><td>2</td><td>4</td><td>8206</td></tr></tbody></table></div>"
      ]
     },
     "metadata": {
      "application/vnd.databricks.v1+output": {
       "addedWidgets": {},
       "aggData": [],
       "aggError": "",
       "aggOverflow": false,
       "aggSchema": [],
       "aggSeriesLimitReached": false,
       "aggType": "",
       "arguments": {},
       "columnCustomDisplayInfos": {},
       "data": [
        [
         "Ford",
         "Explorer",
         2006,
         2.8,
         "Hybrid",
         "Manual",
         99921,
         4,
         2,
         7701
        ],
        [
         "Ford",
         "Fiesta",
         2017,
         2.2,
         "Hybrid",
         "Manual",
         277363,
         2,
         4,
         6852
        ],
        [
         "Ford",
         "Focus",
         2004,
         1.2,
         "Electric",
         "Manual",
         93645,
         3,
         3,
         6627
        ],
        [
         "Ford",
         "Focus",
         2011,
         2.3,
         "Diesel",
         "Automatic",
         255372,
         5,
         5,
         6092
        ],
        [
         "Ford",
         "Focus",
         2008,
         1.8,
         "Electric",
         "Semi-Automatic",
         280713,
         3,
         1,
         4685
        ],
        [
         "Ford",
         "Fiesta",
         2004,
         4.0,
         "Diesel",
         "Automatic",
         85348,
         3,
         3,
         9093
        ],
        [
         "Ford",
         "Focus",
         2015,
         4.8,
         "Electric",
         "Automatic",
         100603,
         4,
         2,
         14887
        ],
        [
         "Ford",
         "Fiesta",
         2002,
         4.0,
         "Hybrid",
         "Semi-Automatic",
         272351,
         3,
         3,
         4252
        ],
        [
         "Ford",
         "Fiesta",
         2007,
         4.5,
         "Electric",
         "Manual",
         53088,
         3,
         2,
         11638
        ],
        [
         "Ford",
         "Focus",
         2013,
         1.1,
         "Diesel",
         "Manual",
         294516,
         4,
         1,
         3209
        ],
        [
         "Ford",
         "Explorer",
         2013,
         5.0,
         "Electric",
         "Automatic",
         188195,
         5,
         3,
         12736
        ],
        [
         "Ford",
         "Fiesta",
         2013,
         3.5,
         "Hybrid",
         "Semi-Automatic",
         167809,
         2,
         3,
         9143
        ],
        [
         "Ford",
         "Focus",
         2001,
         3.2,
         "Petrol",
         "Manual",
         42064,
         2,
         3,
         6758
        ],
        [
         "Ford",
         "Explorer",
         2023,
         4.1,
         "Electric",
         "Automatic",
         67072,
         4,
         3,
         17258
        ],
        [
         "Ford",
         "Explorer",
         2001,
         2.2,
         "Petrol",
         "Manual",
         18630,
         3,
         5,
         6227
        ],
        [
         "Ford",
         "Fiesta",
         2005,
         1.0,
         "Hybrid",
         "Semi-Automatic",
         68819,
         2,
         3,
         6223
        ],
        [
         "Ford",
         "Focus",
         2003,
         3.2,
         "Petrol",
         "Semi-Automatic",
         85005,
         3,
         1,
         6499
        ],
        [
         "Ford",
         "Focus",
         2009,
         2.1,
         "Petrol",
         "Automatic",
         122067,
         4,
         4,
         7958
        ],
        [
         "Ford",
         "Focus",
         2009,
         4.1,
         "Petrol",
         "Automatic",
         99562,
         5,
         2,
         10408
        ],
        [
         "Ford",
         "Focus",
         2009,
         1.2,
         "Hybrid",
         "Automatic",
         114668,
         2,
         4,
         8206
        ]
       ],
       "datasetInfos": [],
       "dbfsResultPath": null,
       "isJsonSchema": true,
       "metadata": {
        "isDbfsCommandResult": false
       },
       "overflow": false,
       "plotOptions": {
        "customPlotOptions": {},
        "displayType": "table",
        "pivotAggregation": null,
        "pivotColumns": null,
        "xColumns": null,
        "yColumns": null
       },
       "removedWidgets": [],
       "schema": [
        {
         "metadata": "{}",
         "name": "Brand",
         "type": "\"string\""
        },
        {
         "metadata": "{}",
         "name": "Model",
         "type": "\"string\""
        },
        {
         "metadata": "{}",
         "name": "Year",
         "type": "\"long\""
        },
        {
         "metadata": "{}",
         "name": "Engine_Size",
         "type": "\"double\""
        },
        {
         "metadata": "{}",
         "name": "Fuel_Type",
         "type": "\"string\""
        },
        {
         "metadata": "{}",
         "name": "Transmission",
         "type": "\"string\""
        },
        {
         "metadata": "{}",
         "name": "Mileage",
         "type": "\"long\""
        },
        {
         "metadata": "{}",
         "name": "Doors",
         "type": "\"long\""
        },
        {
         "metadata": "{}",
         "name": "Owner_Count",
         "type": "\"long\""
        },
        {
         "metadata": "{}",
         "name": "Price",
         "type": "\"long\""
        }
       ],
       "type": "table"
      }
     },
     "output_type": "display_data"
    }
   ],
   "source": [
    "%sql\n",
    "SELECT * FROM Data_Ford_streaming_tmp_vw\n",
    "LIMIT 20;"
   ]
  },
  {
   "cell_type": "code",
   "execution_count": 0,
   "metadata": {
    "application/vnd.databricks.v1+cell": {
     "cellMetadata": {
      "byteLimit": 2048000,
      "implicitDf": true,
      "rowLimit": 10000
     },
     "inputWidgets": {},
     "nuid": "fd932ba6-1f8a-4825-844a-d823cab8e40f",
     "showTitle": false,
     "tableResultSettingsMap": {},
     "title": ""
    }
   },
   "outputs": [
    {
     "output_type": "display_data",
     "data": {
      "text/html": [
       "<style scoped>\n",
       "  .table-result-container {\n",
       "    max-height: 300px;\n",
       "    overflow: auto;\n",
       "  }\n",
       "  table, th, td {\n",
       "    border: 1px solid black;\n",
       "    border-collapse: collapse;\n",
       "  }\n",
       "  th, td {\n",
       "    padding: 5px;\n",
       "  }\n",
       "  th {\n",
       "    text-align: left;\n",
       "  }\n",
       "</style><div class='table-result-container'><table class='table-result'><thead style='background-color: white'><tr><th>num_affected_rows</th><th>num_inserted_rows</th></tr></thead><tbody><tr><td>1</td><td>1</td></tr></tbody></table></div>"
      ]
     },
     "metadata": {
      "application/vnd.databricks.v1+output": {
       "addedWidgets": {},
       "aggData": [],
       "aggError": "",
       "aggOverflow": false,
       "aggSchema": [],
       "aggSeriesLimitReached": false,
       "aggType": "",
       "arguments": {},
       "columnCustomDisplayInfos": {},
       "data": [
        [
         1,
         1
        ]
       ],
       "datasetInfos": [],
       "dbfsResultPath": null,
       "isJsonSchema": true,
       "metadata": {
        "createTempViewForImplicitDf": true,
        "dataframeName": "_sqldf",
        "executionCount": 46
       },
       "overflow": false,
       "plotOptions": {
        "customPlotOptions": {},
        "displayType": "table",
        "pivotAggregation": null,
        "pivotColumns": null,
        "xColumns": null,
        "yColumns": null
       },
       "removedWidgets": [],
       "schema": [
        {
         "metadata": "{}",
         "name": "num_affected_rows",
         "type": "\"long\""
        },
        {
         "metadata": "{}",
         "name": "num_inserted_rows",
         "type": "\"long\""
        }
       ],
       "type": "table"
      }
     },
     "output_type": "display_data"
    }
   ],
   "source": [
    "%sql\n",
    "INSERT INTO Car_Price_Data_Ford\n",
    "VALUES ('Ford','Fiesta','2020','1.5','Diesel','Manual','185000' ,'5','1','5500')"
   ]
  },
  {
   "cell_type": "code",
   "execution_count": 0,
   "metadata": {
    "application/vnd.databricks.v1+cell": {
     "cellMetadata": {
      "byteLimit": 2048000,
      "implicitDf": true,
      "rowLimit": 10000
     },
     "inputWidgets": {},
     "nuid": "459492bc-734a-48f3-95cf-0a43a18b6ce4",
     "showTitle": false,
     "tableResultSettingsMap": {},
     "title": ""
    }
   },
   "outputs": [
    {
     "output_type": "display_data",
     "data": {
      "text/html": [
       "<style scoped>\n",
       "  .table-result-container {\n",
       "    max-height: 300px;\n",
       "    overflow: auto;\n",
       "  }\n",
       "  table, th, td {\n",
       "    border: 1px solid black;\n",
       "    border-collapse: collapse;\n",
       "  }\n",
       "  th, td {\n",
       "    padding: 5px;\n",
       "  }\n",
       "  th {\n",
       "    text-align: left;\n",
       "  }\n",
       "</style><div class='table-result-container'><table class='table-result'><thead style='background-color: white'><tr><th>Model</th><th>total_model</th></tr></thead><tbody><tr><td>Focus</td><td>351</td></tr><tr><td>Fiesta</td><td>368</td></tr><tr><td>Explorer</td><td>334</td></tr></tbody></table></div>"
      ]
     },
     "metadata": {
      "application/vnd.databricks.v1+output": {
       "addedWidgets": {},
       "aggData": [],
       "aggError": "",
       "aggOverflow": false,
       "aggSchema": [],
       "aggSeriesLimitReached": false,
       "aggType": "",
       "arguments": {},
       "columnCustomDisplayInfos": {},
       "data": [
        [
         "Focus",
         351
        ],
        [
         "Fiesta",
         368
        ],
        [
         "Explorer",
         334
        ]
       ],
       "datasetInfos": [],
       "dbfsResultPath": null,
       "isJsonSchema": true,
       "metadata": {
        "isDbfsCommandResult": false
       },
       "overflow": false,
       "plotOptions": {
        "customPlotOptions": {},
        "displayType": "table",
        "pivotAggregation": null,
        "pivotColumns": null,
        "xColumns": null,
        "yColumns": null
       },
       "removedWidgets": [],
       "schema": [
        {
         "metadata": "{}",
         "name": "Model",
         "type": "\"string\""
        },
        {
         "metadata": "{}",
         "name": "total_model",
         "type": "\"long\""
        }
       ],
       "type": "table"
      }
     },
     "output_type": "display_data"
    }
   ],
   "source": [
    "%sql\n",
    "SELECT Model, count(Model) AS total_model\n",
    "FROM Data_Ford_streaming_tmp_vw\n",
    "GROUP BY Model"
   ]
  },
  {
   "cell_type": "code",
   "execution_count": 0,
   "metadata": {
    "application/vnd.databricks.v1+cell": {
     "cellMetadata": {
      "byteLimit": 2048000,
      "implicitDf": true,
      "rowLimit": 10000
     },
     "inputWidgets": {},
     "nuid": "d8b14e46-1bcc-4e5f-be4c-22bd73722760",
     "showTitle": false,
     "tableResultSettingsMap": {},
     "title": ""
    }
   },
   "outputs": [
    {
     "output_type": "display_data",
     "data": {
      "text/html": [
       "<style scoped>\n",
       "  .table-result-container {\n",
       "    max-height: 300px;\n",
       "    overflow: auto;\n",
       "  }\n",
       "  table, th, td {\n",
       "    border: 1px solid black;\n",
       "    border-collapse: collapse;\n",
       "  }\n",
       "  th, td {\n",
       "    padding: 5px;\n",
       "  }\n",
       "  th {\n",
       "    text-align: left;\n",
       "  }\n",
       "</style><div class='table-result-container'><table class='table-result'><thead style='background-color: white'><tr><th>num_affected_rows</th><th>num_inserted_rows</th></tr></thead><tbody><tr><td>1</td><td>1</td></tr></tbody></table></div>"
      ]
     },
     "metadata": {
      "application/vnd.databricks.v1+output": {
       "addedWidgets": {},
       "aggData": [],
       "aggError": "",
       "aggOverflow": false,
       "aggSchema": [],
       "aggSeriesLimitReached": false,
       "aggType": "",
       "arguments": {},
       "columnCustomDisplayInfos": {},
       "data": [
        [
         1,
         1
        ]
       ],
       "datasetInfos": [],
       "dbfsResultPath": null,
       "isJsonSchema": true,
       "metadata": {
        "createTempViewForImplicitDf": true,
        "dataframeName": "_sqldf",
        "executionCount": 48
       },
       "overflow": false,
       "plotOptions": {
        "customPlotOptions": {},
        "displayType": "table",
        "pivotAggregation": null,
        "pivotColumns": null,
        "xColumns": null,
        "yColumns": null
       },
       "removedWidgets": [],
       "schema": [
        {
         "metadata": "{}",
         "name": "num_affected_rows",
         "type": "\"long\""
        },
        {
         "metadata": "{}",
         "name": "num_inserted_rows",
         "type": "\"long\""
        }
       ],
       "type": "table"
      }
     },
     "output_type": "display_data"
    }
   ],
   "source": [
    "%sql\n",
    "INSERT INTO Car_Price_Data_Ford\n",
    "VALUES ('Ford','Fiesta','2009','2.0','Diesel','Manual','320000' ,'5','1','1500')"
   ]
  },
  {
   "cell_type": "markdown",
   "metadata": {
    "application/vnd.databricks.v1+cell": {
     "cellMetadata": {},
     "inputWidgets": {},
     "nuid": "030aef9a-dde0-4584-975c-48b0bf8a46e3",
     "showTitle": false,
     "tableResultSettingsMap": {},
     "title": ""
    }
   },
   "source": []
  }
 ],
 "metadata": {
  "application/vnd.databricks.v1+notebook": {
   "computePreferences": null,
   "dashboards": [],
   "environmentMetadata": {
    "base_environment": "",
    "environment_version": "2"
   },
   "language": "python",
   "notebookMetadata": {
    "mostRecentlyExecutedCommandWithImplicitDF": {
     "commandId": 4615658386608212,
     "dataframes": [
      "_sqldf"
     ]
    },
    "pythonIndentUnit": 4
   },
   "notebookName": "Data Car",
   "widgets": {}
  },
  "language_info": {
   "name": "python"
  }
 },
 "nbformat": 4,
 "nbformat_minor": 0
}